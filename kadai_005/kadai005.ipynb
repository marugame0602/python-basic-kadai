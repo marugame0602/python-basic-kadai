top = 10
down = 20
height = 5

area = (top+down)*height/2

print(str(area)+'㎠')
