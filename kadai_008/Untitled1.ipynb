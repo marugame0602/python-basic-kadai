{
  "nbformat": 4,
  "nbformat_minor": 0,
  "metadata": {
    "colab": {
      "provenance": []
    },
    "kernelspec": {
      "name": "python3",
      "display_name": "Python 3"
    },
    "language_info": {
      "name": "python"
    }
  },
  "cells": [
    {
      "cell_type": "code",
      "execution_count": null,
      "metadata": {
        "id": "_SO2eR6fXeUS"
      },
      "outputs": [],
      "source": []
    },
    {
      "cell_type": "code",
      "source": [
        "var = 6\n",
        "\n",
        "if var % 3 ==0 and var % 5 ==0:\n",
        "  print('FizzBuzz')\n",
        "elif var % 5 ==0:\n",
        "  print('Buzz')\n",
        "elif var % 3 ==0:\n",
        "  print('Fizz')\n",
        "else:\n",
        "  print(var)"
      ],
      "metadata": {
        "colab": {
          "base_uri": "https://localhost:8080/"
        },
        "id": "0qLvZf7sydvY",
        "outputId": "c0367976-8bb0-467c-8631-66d35d066edb"
      },
      "execution_count": 27,
      "outputs": [
        {
          "output_type": "stream",
          "name": "stdout",
          "text": [
            "Fizz\n"
          ]
        }
      ]
    }
  ]
}