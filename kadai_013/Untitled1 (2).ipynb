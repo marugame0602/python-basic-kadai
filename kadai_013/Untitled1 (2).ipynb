{
  "nbformat": 4,
  "nbformat_minor": 0,
  "metadata": {
    "colab": {
      "provenance": []
    },
    "kernelspec": {
      "name": "python3",
      "display_name": "Python 3"
    },
    "language_info": {
      "name": "python"
    }
  },
  "cells": [
    {
      "cell_type": "code",
      "source": [
        "def add_tax(price, tax):\n",
        "  total = price+price*tax\n",
        "  print(f'{total}円')\n",
        "add_tax(100,0.1)"
      ],
      "metadata": {
        "id": "qRkuyeQsFfZx",
        "outputId": "8d4b24a4-03ae-4fec-8ddf-263ba0a08c50",
        "colab": {
          "base_uri": "https://localhost:8080/"
        }
      },
      "execution_count": 17,
      "outputs": [
        {
          "output_type": "stream",
          "name": "stdout",
          "text": [
            "110.0円\n"
          ]
        }
      ]
    }
  ]
}