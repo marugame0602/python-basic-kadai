def add_tax(price,tax):
  return price+price*tax
  
add_tax(100,0.1)
