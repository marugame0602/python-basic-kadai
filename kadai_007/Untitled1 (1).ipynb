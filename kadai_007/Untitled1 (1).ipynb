{
  "nbformat": 4,
  "nbformat_minor": 0,
  "metadata": {
    "colab": {
      "provenance": []
    },
    "kernelspec": {
      "name": "python3",
      "display_name": "Python 3"
    },
    "language_info": {
      "name": "python"
    }
  },
  "cells": [
    {
      "cell_type": "code",
      "execution_count": null,
      "metadata": {
        "id": "_SO2eR6fXeUS"
      },
      "outputs": [],
      "source": []
    },
    {
      "cell_type": "code",
      "source": [
        "array = ['月曜日は晴れです', '火曜日は雨です', '水曜日は晴れです', '木曜日は晴れです', '金曜日は曇りです', '土曜日は曇りのち雨です', '日曜日は雷雨です']\n",
        "print(array[2])"
      ],
      "metadata": {
        "id": "pp_r8jLtJkLc",
        "outputId": "5bc3dfdc-21a9-4324-be3e-be9b3c00c234",
        "colab": {
          "base_uri": "https://localhost:8080/"
        }
      },
      "execution_count": 9,
      "outputs": [
        {
          "output_type": "stream",
          "name": "stdout",
          "text": [
            "水曜日は晴れです\n"
          ]
        }
      ]
    },
    {
      "cell_type": "code",
      "source": [
        "dictionary ={'mon':'晴れ', 'tue':'雨', 'wed':'晴れ', 'thu':'晴れ', 'fri':'曇り', 'sat':'曇りのち雨', 'sun':'雷雨'}\n",
        "print(dictionary['wed'])"
      ],
      "metadata": {
        "id": "KFSaVtCZKGdc",
        "outputId": "d6756519-64fd-413a-e612-15caed188c73",
        "colab": {
          "base_uri": "https://localhost:8080/"
        }
      },
      "execution_count": 11,
      "outputs": [
        {
          "output_type": "stream",
          "name": "stdout",
          "text": [
            "晴れ\n"
          ]
        }
      ]
    }
  ]
}