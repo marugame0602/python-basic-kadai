class Human:
  def __init__(self):
    self.name = ''
    self.age = ''
  
  def set_name(self, name, age):
    self.name = name
    self.age = age

  def check_adult(self):
    if self.age>=20:
     print(f'{self.name}さんは大人です。')
    else:
     print(f'{self.name}さんは大人ではありません。')

people = ['山田','木下']
people[0] = Human()
people[1] = Human()

people[0].set_name('山田', 20)
people[1].set_name('木下', 18)
people1.check_adult()
people2.check_adult()
