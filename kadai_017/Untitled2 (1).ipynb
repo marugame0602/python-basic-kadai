{
  "nbformat": 4,
  "nbformat_minor": 0,
  "metadata": {
    "colab": {
      "provenance": []
    },
    "kernelspec": {
      "name": "python3",
      "display_name": "Python 3"
    },
    "language_info": {
      "name": "python"
    }
  },
  "cells": [
    {
      "cell_type": "code",
      "source": [
        "class Human:\n",
        "  def __init__(self):\n",
        "    self.name = ''\n",
        "    self.age = ''\n",
        "\n",
        "  def set_name(self, name, age):\n",
        "    self.name = name\n",
        "    self.age = age\n",
        "\n",
        "  def check_adult(self):\n",
        "    if self.age>=20:\n",
        "     print(f'{self.name}さんは大人です。')\n",
        "    else:\n",
        "     print(f'{self.name}さんは大人ではありません。')\n",
        "\n",
        "people1 = Human()\n",
        "people2 = Human()\n",
        "\n",
        "people1.set_name('山田', 20)\n",
        "people2.set_name('木下',18)\n",
        "people1.check_adult()\n",
        "people2.check_adult()"
      ],
      "metadata": {
        "colab": {
          "base_uri": "https://localhost:8080/"
        },
        "id": "IGip9I9I6NYc",
        "outputId": "8fd468d6-3189-4d8b-90bd-9761f8a26bb4"
      },
      "execution_count": 21,
      "outputs": [
        {
          "output_type": "stream",
          "name": "stdout",
          "text": [
            "山田さんは大人です。\n",
            "木下さんは大人ではありません。\n"
          ]
        }
      ]
    }
  ]
}