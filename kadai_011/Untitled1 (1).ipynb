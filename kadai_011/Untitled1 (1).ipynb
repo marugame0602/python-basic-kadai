array =["水","金","地","火","木","土","天","海","冥"]

i =0

for planet in array:
  print(planet)

while i <9 :
  print(array[i])
  i +=1
  
