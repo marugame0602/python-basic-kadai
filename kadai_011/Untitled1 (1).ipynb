{
  "nbformat": 4,
  "nbformat_minor": 0,
  "metadata": {
    "colab": {
      "provenance": []
    },
    "kernelspec": {
      "name": "python3",
      "display_name": "Python 3"
    },
    "language_info": {
      "name": "python"
    }
  },
  "cells": [
    {
      "cell_type": "code",
      "execution_count": null,
      "metadata": {
        "id": "_SO2eR6fXeUS"
      },
      "outputs": [],
      "source": []
    },
    {
      "cell_type": "code",
      "source": [
        "array =[\"水\",\"金\",\"地\",\"火\",\"木\",\"土\",\"天\",\"海\",\"冥\"]\n",
        "\n",
        "i =0\n",
        "\n",
        "for planet in array:\n",
        "  print(planet)\n",
        "\n",
        "while array[i] != '冥':\n",
        "  print(array[i])\n",
        "  i +=1\n",
        ""
      ],
      "metadata": {
        "id": "Kn0vcPXArYe3",
        "outputId": "ceae9e32-c379-4eda-e925-5f21f5da5d26",
        "colab": {
          "base_uri": "https://localhost:8080/"
        }
      },
      "execution_count": 20,
      "outputs": [
        {
          "output_type": "stream",
          "name": "stdout",
          "text": [
            "水\n",
            "金\n",
            "地\n",
            "火\n",
            "木\n",
            "土\n",
            "天\n",
            "海\n",
            "冥\n",
            "水\n",
            "金\n",
            "地\n",
            "火\n",
            "木\n",
            "土\n",
            "天\n",
            "海\n"
          ]
        }
      ]
    }
  ]
}